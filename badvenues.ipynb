{
 "cells": [
  {
   "cell_type": "code",
   "execution_count": 153,
   "metadata": {},
   "outputs": [],
   "source": [
    "import pandas as pd\n",
    "import json\n",
    "from sklearn.feature_extraction.text import CountVectorizer\n",
    "from sklearn.pipeline import Pipeline, make_pipeline, make_union\n",
    "from sklearn.model_selection import train_test_split\n",
    "from sklearn.model_selection import GridSearchCV\n",
    "from sklearn.metrics import classification_report, confusion_matrix\n",
    "from sklearn.svm import SVC\n",
    "from collections import Counter\n",
    "from sklearn.ensemble import RandomForestClassifier\n",
    "from imblearn.over_sampling import RandomOverSampler"
   ]
  },
  {
   "cell_type": "code",
   "execution_count": 154,
   "metadata": {},
   "outputs": [
    {
     "name": "stdout",
     "output_type": "stream",
     "text": [
      "total rows: 2884\n",
      "{'good': 2719, 'bad': 165}\n"
     ]
    }
   ],
   "source": [
    "d = pd.read_csv('venue_db.csv')\n",
    "pn = {1: 'good', 0: 'bad'}\n",
    "print(f'total rows: {len(d)}')\n",
    "\n",
    "c = Counter(d['is_ok'])\n",
    "print({pn[_]: c[_] for _ in c})"
   ]
  },
  {
   "cell_type": "code",
   "execution_count": 155,
   "metadata": {},
   "outputs": [],
   "source": [
    "pos_ = d[d['is_ok'] == 1]\n",
    "neg_ = d[d['is_ok'] == 0]\n",
    "\n",
    "while len(neg_) < len(pos_):\n",
    "    neg_ = pd.concat([neg_, neg_.sample(frac=0.2)])\n",
    "    \n",
    "d = pd.concat([pos_, neg_]).sample(frac=1.)"
   ]
  },
  {
   "cell_type": "code",
   "execution_count": 156,
   "metadata": {},
   "outputs": [
    {
     "name": "stdout",
     "output_type": "stream",
     "text": [
      "training set: 4045, testing set: 1734\n"
     ]
    }
   ],
   "source": [
    "X = d['venue']\n",
    "y = d['is_ok']\n",
    "\n",
    "X_train, X_test, y_train, y_test = train_test_split(X, y, test_size=0.3, random_state=21, stratify=y)\n",
    "print(f'training set: {len(X_train)}, testing set: {len(X_test)}')"
   ]
  },
  {
   "cell_type": "code",
   "execution_count": 157,
   "metadata": {},
   "outputs": [],
   "source": [
    "# this will produce a feature union with components called like 'countvectorizer'\n",
    "features = make_union(CountVectorizer(strip_accents='ascii', \n",
    "                                      lowercase=True, \n",
    "                                      stop_words='english', \n",
    "                                      ngram_range=(1, 3), \n",
    "                                      analyzer='word'))"
   ]
  },
  {
   "cell_type": "code",
   "execution_count": 158,
   "metadata": {},
   "outputs": [
    {
     "name": "stdout",
     "output_type": "stream",
     "text": [
      "running RANDOMFORESTCLASSIFIER...\n",
      "             precision    recall  f1-score   support\n",
      "\n",
      "          0       0.97      1.00      0.99       918\n",
      "          1       1.00      0.97      0.98       816\n",
      "\n",
      "avg / total       0.99      0.99      0.99      1734\n",
      "\n",
      "confusion matrix\n",
      "[[918   0]\n",
      " [ 25 791]]\n",
      "running SVC...\n",
      "             precision    recall  f1-score   support\n",
      "\n",
      "          0       0.97      0.73      0.84       918\n",
      "          1       0.77      0.98      0.86       816\n",
      "\n",
      "avg / total       0.88      0.85      0.85      1734\n",
      "\n",
      "confusion matrix\n",
      "[[674 244]\n",
      " [ 18 798]]\n"
     ]
    }
   ],
   "source": [
    "cls = {'randomforestclassifier': RandomForestClassifier(),\n",
    "       'svc': SVC()}\n",
    "\n",
    "ps = {'randomforestclassifier': {'n_estimators': (100,200,300)},\n",
    "        'svc': {'class_weight': ('balanced', None),\n",
    "                'C': (1e-4, 1e-3, 1e-2, 1e-1, 1, 1e+1)}}\n",
    "\n",
    "\n",
    "for cl in cls:\n",
    "    \n",
    "    print(f'running {cl.upper()}...')\n",
    "    \n",
    "    pipeline = make_pipeline(features, cls[cl])\n",
    "    \n",
    "    pars = {f'{cl}__{p}': ps[cl][p] for p in ps[cl]}\n",
    "    \n",
    "    grid_search = GridSearchCV(pipeline, param_grid=pars)\n",
    "    \n",
    "    grid_search.fit(X_train, y_train.values.ravel())\n",
    "    \n",
    "    yh = grid_search.predict(X_test)\n",
    "    \n",
    "    print(classification_report(y_test, yh))\n",
    "    \n",
    "    print('confusion matrix')\n",
    "    \n",
    "    print(confusion_matrix(y_test, yh))"
   ]
  },
  {
   "cell_type": "code",
   "execution_count": null,
   "metadata": {},
   "outputs": [],
   "source": []
  }
 ],
 "metadata": {
  "kernelspec": {
   "display_name": "Python 3",
   "language": "python",
   "name": "python3"
  },
  "language_info": {
   "codemirror_mode": {
    "name": "ipython",
    "version": 3
   },
   "file_extension": ".py",
   "mimetype": "text/x-python",
   "name": "python",
   "nbconvert_exporter": "python",
   "pygments_lexer": "ipython3",
   "version": "3.6.5"
  }
 },
 "nbformat": 4,
 "nbformat_minor": 2
}
