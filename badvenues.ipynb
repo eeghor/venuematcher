{
 "cells": [
  {
   "cell_type": "code",
   "execution_count": 25,
   "metadata": {},
   "outputs": [],
   "source": [
    "import pandas as pd\n",
    "import json\n",
    "from sklearn.feature_extraction.text import CountVectorizer\n",
    "from sklearn.pipeline import Pipeline, make_pipeline, make_union\n",
    "from sklearn.model_selection import train_test_split\n",
    "from sklearn.model_selection import GridSearchCV\n",
    "from sklearn.metrics import classification_report, confusion_matrix\n",
    "from sklearn.svm import SVC\n",
    "from collections import Counter\n",
    "from sklearn.ensemble import RandomForestClassifier\n",
    "from imblearn.over_sampling import RandomOverSampler\n",
    "from sklearn.linear_model import ElasticNetCV"
   ]
  },
  {
   "cell_type": "code",
   "execution_count": 26,
   "metadata": {},
   "outputs": [
    {
     "name": "stdout",
     "output_type": "stream",
     "text": [
      "total rows: 2884\n",
      "{'good': 2653, 'bad': 231}\n"
     ]
    }
   ],
   "source": [
    "d = pd.read_csv('venue_db.csv')\n",
    "pn = {1: 'good', 0: 'bad'}\n",
    "print(f'total rows: {len(d)}')\n",
    "\n",
    "c = Counter(d['is_ok'])\n",
    "print({pn[_]: c[_] for _ in c})"
   ]
  },
  {
   "cell_type": "code",
   "execution_count": 27,
   "metadata": {},
   "outputs": [],
   "source": [
    "pos_ = d[d['is_ok'] == 1]\n",
    "neg_ = d[d['is_ok'] == 0]\n",
    "\n",
    "while len(neg_) < len(pos_):\n",
    "    neg_ = pd.concat([neg_, neg_.sample(frac=0.2)])\n",
    "    \n",
    "d = pd.concat([pos_, neg_]).sample(frac=1.)"
   ]
  },
  {
   "cell_type": "code",
   "execution_count": 28,
   "metadata": {},
   "outputs": [
    {
     "name": "stdout",
     "output_type": "stream",
     "text": [
      "training set: 3930, testing set: 1685\n"
     ]
    }
   ],
   "source": [
    "X = d['venue']\n",
    "y = d['is_ok']\n",
    "\n",
    "X_train, X_test, y_train, y_test = train_test_split(X, y, test_size=0.3, random_state=21, stratify=y)\n",
    "print(f'training set: {len(X_train)}, testing set: {len(X_test)}')"
   ]
  },
  {
   "cell_type": "code",
   "execution_count": 29,
   "metadata": {},
   "outputs": [],
   "source": [
    "# this will produce a feature union with components called like 'countvectorizer'\n",
    "features = make_union(CountVectorizer(strip_accents='ascii', \n",
    "                                      lowercase=True, \n",
    "                                      stop_words='english', \n",
    "                                      ngram_range=(1, 3), \n",
    "                                      analyzer='word'))"
   ]
  },
  {
   "cell_type": "code",
   "execution_count": 30,
   "metadata": {},
   "outputs": [
    {
     "name": "stdout",
     "output_type": "stream",
     "text": [
      "running RANDOMFORESTCLASSIFIER...\n",
      "             precision    recall  f1-score   support\n",
      "\n",
      "          0       1.00      1.00      1.00       889\n",
      "          1       1.00      1.00      1.00       796\n",
      "\n",
      "avg / total       1.00      1.00      1.00      1685\n",
      "\n",
      "confusion matrix\n",
      "[[888   1]\n",
      " [  2 794]]\n",
      "incorrectly labelled as BAD\n",
      "2007    east coast blues roots festival byron bay\n",
      "2853           silvers nightclub events melbourne\n",
      "Name: venue, dtype: object\n",
      "incorrectly labelled as GOOD\n",
      "1816    wendouree sports and events centre, ballarat\n",
      "Name: venue, dtype: object\n",
      "running SVC...\n",
      "             precision    recall  f1-score   support\n",
      "\n",
      "          0       1.00      0.87      0.93       889\n",
      "          1       0.87      1.00      0.93       796\n",
      "\n",
      "avg / total       0.94      0.93      0.93      1685\n",
      "\n",
      "confusion matrix\n",
      "[[771 118]\n",
      " [  3 793]]\n",
      "incorrectly labelled as BAD\n",
      "2007        east coast blues roots festival byron bay\n",
      "2773    australian equine and livestock events centre\n",
      "2853               silvers nightclub events melbourne\n",
      "Name: venue, dtype: object\n",
      "incorrectly labelled as GOOD\n",
      "2667                            homebush bay car parking\n",
      "1313                            commonwealth youth games\n",
      "1313                            commonwealth youth games\n",
      "972                                   circus arts sydney\n",
      "1054                           sunferries/sunsea cruises\n",
      "1313                            commonwealth youth games\n",
      "2667                            homebush bay car parking\n",
      "1668                               the port office hotel\n",
      "2060                    cricket world cup - miscelaneous\n",
      "694     circus monoxide big top carrington park bathurst\n",
      "1628                                     ashton's circus\n",
      "1856                                     ticketek @ park\n",
      "2060                    cricket world cup - miscelaneous\n",
      "1349                    lyric theatre non ticketek venue\n",
      "2060                    cricket world cup - miscelaneous\n",
      "500                                      romeo tent - wa\n",
      "963                                circus arts byron bay\n",
      "1349                    lyric theatre non ticketek venue\n",
      "2852                                            ticketek\n",
      "963                                circus arts byron bay\n",
      "500                                      romeo tent - wa\n",
      "835                                  lismore circus site\n",
      "1535                           out spirit - kokoda trail\n",
      "502                                        cirque espace\n",
      "694     circus monoxide big top carrington park bathurst\n",
      "1624                      surfers by night party cruises\n",
      "1313                            commonwealth youth games\n",
      "1812                         reef magic cruises - cairns\n",
      "212                              anz stadium memberships\n",
      "1668                               the port office hotel\n",
      "                              ...                       \n",
      "1833                                       gc2018 upsell\n",
      "2060                    cricket world cup - miscelaneous\n",
      "1624                      surfers by night party cruises\n",
      "1313                            commonwealth youth games\n",
      "546                              anz stadium memberships\n",
      "1054                           sunferries/sunsea cruises\n",
      "212                              anz stadium memberships\n",
      "212                              anz stadium memberships\n",
      "2367                               lady rose cruise boat\n",
      "953                              melbourne river cruises\n",
      "539                                        moscow circus\n",
      "2852                                            ticketek\n",
      "2667                            homebush bay car parking\n",
      "1628                                     ashton's circus\n",
      "1812                         reef magic cruises - cairns\n",
      "2060                    cricket world cup - miscelaneous\n",
      "1313                            commonwealth youth games\n",
      "2060                    cricket world cup - miscelaneous\n",
      "1313                            commonwealth youth games\n",
      "1535                           out spirit - kokoda trail\n",
      "546                              anz stadium memberships\n",
      "2138                 outlet shopping tours melbourne vic\n",
      "1624                      surfers by night party cruises\n",
      "2060                    cricket world cup - miscelaneous\n",
      "546                              anz stadium memberships\n",
      "1535                           out spirit - kokoda trail\n",
      "1856                                     ticketek @ park\n",
      "587                           perth miscellaneous venues\n",
      "159                sydney to newcastle bus coach package\n",
      "1535                           out spirit - kokoda trail\n",
      "Name: venue, Length: 118, dtype: object\n"
     ]
    }
   ],
   "source": [
    "cls = {'randomforestclassifier': RandomForestClassifier(),\n",
    "       'svc': SVC()}\n",
    "\n",
    "ps = {'randomforestclassifier': {'n_estimators': (100,200,300)},\n",
    "        'svc': {'class_weight': ('balanced', None),\n",
    "                'C': (1e-4, 1e-3, 1e-2, 1e-1, 1, 1e+1)}}\n",
    "\n",
    "\n",
    "for cl in cls:\n",
    "    \n",
    "    print(f'running {cl.upper()}...')\n",
    "    \n",
    "    pipeline = make_pipeline(features, cls[cl])\n",
    "    \n",
    "    pars = {f'{cl}__{p}': ps[cl][p] for p in ps[cl]}\n",
    "    \n",
    "    grid_search = GridSearchCV(pipeline, param_grid=pars)\n",
    "    \n",
    "    grid_search.fit(X_train, y_train.values.ravel())\n",
    "    \n",
    "    yh = grid_search.predict(X_test)\n",
    "    \n",
    "    print(classification_report(y_test, yh))\n",
    "    \n",
    "    print('confusion matrix')\n",
    "    \n",
    "    print(confusion_matrix(y_test, yh))\n",
    "    \n",
    "    print('incorrectly labelled as BAD')\n",
    "    \n",
    "    print(X_test[list(yh - y_test < 0)])\n",
    "    \n",
    "    print('incorrectly labelled as GOOD')\n",
    "    \n",
    "    print(X_test[list(yh - y_test > 0)])"
   ]
  },
  {
   "cell_type": "code",
   "execution_count": null,
   "metadata": {},
   "outputs": [],
   "source": []
  }
 ],
 "metadata": {
  "kernelspec": {
   "display_name": "Python 3",
   "language": "python",
   "name": "python3"
  },
  "language_info": {
   "codemirror_mode": {
    "name": "ipython",
    "version": 3
   },
   "file_extension": ".py",
   "mimetype": "text/x-python",
   "name": "python",
   "nbconvert_exporter": "python",
   "pygments_lexer": "ipython3",
   "version": "3.6.5"
  }
 },
 "nbformat": 4,
 "nbformat_minor": 2
}
