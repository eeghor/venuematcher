{
 "cells": [
  {
   "cell_type": "code",
   "execution_count": 1,
   "metadata": {},
   "outputs": [],
   "source": [
    "import pandas as pd\n",
    "import json\n",
    "from sklearn.feature_extraction.text import CountVectorizer\n",
    "from sklearn.pipeline import Pipeline, make_pipeline, make_union\n",
    "from sklearn.model_selection import train_test_split\n",
    "from sklearn.model_selection import GridSearchCV\n",
    "from sklearn.metrics import classification_report, confusion_matrix\n",
    "from sklearn.svm import SVC\n",
    "from collections import Counter\n",
    "from sklearn.ensemble import RandomForestClassifier\n",
    "from imblearn.over_sampling import RandomOverSampler\n",
    "from sklearn.linear_model import ElasticNetCV"
   ]
  },
  {
   "cell_type": "code",
   "execution_count": 2,
   "metadata": {},
   "outputs": [
    {
     "name": "stdout",
     "output_type": "stream",
     "text": [
      "total rows: 2884\n",
      "{'good': 2666, 'bad': 218}\n"
     ]
    }
   ],
   "source": [
    "d = pd.read_csv('venue_db.csv')\n",
    "pn = {1: 'good', 0: 'bad'}\n",
    "print(f'total rows: {len(d)}')\n",
    "\n",
    "c = Counter(d['is_ok'])\n",
    "print({pn[_]: c[_] for _ in c})"
   ]
  },
  {
   "cell_type": "code",
   "execution_count": 3,
   "metadata": {},
   "outputs": [],
   "source": [
    "pos_ = d[d['is_ok'] == 1]\n",
    "neg_ = d[d['is_ok'] == 0]\n",
    "\n",
    "while len(neg_) < len(pos_):\n",
    "    neg_ = pd.concat([neg_, neg_.sample(frac=0.2)])\n",
    "    \n",
    "d = pd.concat([pos_, neg_]).sample(frac=1.)"
   ]
  },
  {
   "cell_type": "code",
   "execution_count": 4,
   "metadata": {},
   "outputs": [
    {
     "name": "stdout",
     "output_type": "stream",
     "text": [
      "training set: 3823, testing set: 1639\n"
     ]
    }
   ],
   "source": [
    "X = d['venue']\n",
    "y = d['is_ok']\n",
    "\n",
    "X_train, X_test, y_train, y_test = train_test_split(X, y, test_size=0.3, random_state=21, stratify=y)\n",
    "print(f'training set: {len(X_train)}, testing set: {len(X_test)}')"
   ]
  },
  {
   "cell_type": "code",
   "execution_count": 5,
   "metadata": {},
   "outputs": [],
   "source": [
    "# this will produce a feature union with components called like 'countvectorizer'\n",
    "features = make_union(CountVectorizer(strip_accents='ascii', \n",
    "                                      lowercase=True, \n",
    "                                      stop_words='english', \n",
    "                                      ngram_range=(1, 3), \n",
    "                                      analyzer='word'))"
   ]
  },
  {
   "cell_type": "code",
   "execution_count": 6,
   "metadata": {},
   "outputs": [
    {
     "name": "stdout",
     "output_type": "stream",
     "text": [
      "running RANDOMFORESTCLASSIFIER...\n",
      "             precision    recall  f1-score   support\n",
      "\n",
      "          0       0.99      1.00      1.00       839\n",
      "          1       1.00      0.99      1.00       800\n",
      "\n",
      "avg / total       1.00      1.00      1.00      1639\n",
      "\n",
      "confusion matrix\n",
      "[[837   2]\n",
      " [  5 795]]\n",
      "incorrectly labelled as BAD\n",
      "1525                      big red bash music festival\n",
      "1349                 lyric theatre non ticketek venue\n",
      "1393    newcastle entertainment centre outside events\n",
      "2853               silvers nightclub events melbourne\n",
      "1277                   newcastle civic theatre events\n",
      "Name: venue, dtype: object\n",
      "incorrectly labelled as GOOD\n",
      "1668    the port office hotel\n",
      "1668    the port office hotel\n",
      "Name: venue, dtype: object\n",
      "running SVC...\n",
      "             precision    recall  f1-score   support\n",
      "\n",
      "          0       0.99      0.59      0.74       839\n",
      "          1       0.70      0.99      0.82       800\n",
      "\n",
      "avg / total       0.85      0.79      0.78      1639\n",
      "\n",
      "confusion matrix\n",
      "[[496 343]\n",
      " [  5 795]]\n",
      "incorrectly labelled as BAD\n",
      "1525                      big red bash music festival\n",
      "1393    newcastle entertainment centre outside events\n",
      "2853               silvers nightclub events melbourne\n",
      "2773    australian equine and livestock events centre\n",
      "1277                   newcastle civic theatre events\n",
      "Name: venue, dtype: object\n",
      "incorrectly labelled as GOOD\n",
      "2437                                   ozone reserve\n",
      "834                              hoot! festival club\n",
      "1833                                   gc2018 upsell\n",
      "1941                         coach & horses ringwood\n",
      "1161            blue fire cruises - surfers paradise\n",
      "1172    privilege club allocations - syd head office\n",
      "224             tent tour - gala of the royal horses\n",
      "2427                 tent tour - long way to the top\n",
      "2072                            nerang mt bike trail\n",
      "2400                      haunted sydney ghost tours\n",
      "1464         dolphin wild island cruises - redcliffe\n",
      "528       brisbane transport garden city interchange\n",
      "159            sydney to newcastle bus coach package\n",
      "303                             hanging rock reserve\n",
      "1313                        commonwealth youth games\n",
      "546                          anz stadium memberships\n",
      "2350                       adelaide festival theatre\n",
      "1628                                 ashton's circus\n",
      "2138             outlet shopping tours melbourne vic\n",
      "1941                         coach & horses ringwood\n",
      "539                                    moscow circus\n",
      "93                          good time harbour cruise\n",
      "1764                        lonsdale reserve mulwala\n",
      "388                            pier 2/3 in walsh bay\n",
      "835                              lismore circus site\n",
      "1315                public office - melbourne region\n",
      "2072                            nerang mt bike trail\n",
      "2424      bella vista vessel - harbour cruise sydney\n",
      "1833                                   gc2018 upsell\n",
      "2437                                   ozone reserve\n",
      "                            ...                     \n",
      "2682                           lady wakehurst cruise\n",
      "2427                 tent tour - long way to the top\n",
      "463               cirque du soleil - quidam - sydney\n",
      "2427                 tent tour - long way to the top\n",
      "1172    privilege club allocations - syd head office\n",
      "2437                                   ozone reserve\n",
      "1054                       sunferries/sunsea cruises\n",
      "2798                           perth office csr test\n",
      "528       brisbane transport garden city interchange\n",
      "2039                                 morwell reserve\n",
      "1824                               holm park reserve\n",
      "709                   depart pier 26 darling harbour\n",
      "2138             outlet shopping tours melbourne vic\n",
      "1220                        balloon aloft - canberra\n",
      "2400                      haunted sydney ghost tours\n",
      "322                      bus bay charles west avenue\n",
      "546                          anz stadium memberships\n",
      "212                          anz stadium memberships\n",
      "1172    privilege club allocations - syd head office\n",
      "500                                  romeo tent - wa\n",
      "1702                       pier 26 king street wharf\n",
      "2437                                   ozone reserve\n",
      "40                           peninsula, central pier\n",
      "2437                                   ozone reserve\n",
      "1539                       parkroyal darling harbour\n",
      "1172    privilege club allocations - syd head office\n",
      "1233                      silvers grand magic circus\n",
      "1220                        balloon aloft - canberra\n",
      "546                          anz stadium memberships\n",
      "1550                            nerang mt bike trail\n",
      "Name: venue, Length: 343, dtype: object\n"
     ]
    }
   ],
   "source": [
    "cls = {'randomforestclassifier': RandomForestClassifier(),\n",
    "       'svc': SVC()}\n",
    "\n",
    "ps = {'randomforestclassifier': {'n_estimators': (100,200,300)},\n",
    "        'svc': {'class_weight': ('balanced', None),\n",
    "                'C': (1e-4, 1e-3, 1e-2, 1e-1, 1, 1e+1)}}\n",
    "\n",
    "\n",
    "for cl in cls:\n",
    "    \n",
    "    print(f'running {cl.upper()}...')\n",
    "    \n",
    "    pipeline = make_pipeline(features, cls[cl])\n",
    "    \n",
    "    pars = {f'{cl}__{p}': ps[cl][p] for p in ps[cl]}\n",
    "    \n",
    "    grid_search = GridSearchCV(pipeline, param_grid=pars)\n",
    "    \n",
    "    grid_search.fit(X_train, y_train.values.ravel())\n",
    "    \n",
    "    yh = grid_search.predict(X_test)\n",
    "    \n",
    "    print(classification_report(y_test, yh))\n",
    "    \n",
    "    print('confusion matrix')\n",
    "    \n",
    "    print(confusion_matrix(y_test, yh))\n",
    "    \n",
    "    print('incorrectly labelled as BAD')\n",
    "    \n",
    "    print(X_test[list(yh - y_test < 0)])\n",
    "    \n",
    "    print('incorrectly labelled as GOOD')\n",
    "    \n",
    "    print(X_test[list(yh - y_test > 0)])"
   ]
  },
  {
   "cell_type": "code",
   "execution_count": null,
   "metadata": {},
   "outputs": [],
   "source": []
  }
 ],
 "metadata": {
  "kernelspec": {
   "display_name": "Python 3",
   "language": "python",
   "name": "python3"
  },
  "language_info": {
   "codemirror_mode": {
    "name": "ipython",
    "version": 3
   },
   "file_extension": ".py",
   "mimetype": "text/x-python",
   "name": "python",
   "nbconvert_exporter": "python",
   "pygments_lexer": "ipython3",
   "version": "3.6.5"
  }
 },
 "nbformat": 4,
 "nbformat_minor": 2
}
