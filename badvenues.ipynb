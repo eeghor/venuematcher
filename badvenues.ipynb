{
 "cells": [
  {
   "cell_type": "code",
   "execution_count": 13,
   "metadata": {},
   "outputs": [],
   "source": [
    "import pandas as pd\n",
    "import json\n",
    "from sklearn.feature_extraction.text import CountVectorizer\n",
    "from sklearn.pipeline import Pipeline, make_pipeline, make_union\n",
    "from sklearn.model_selection import train_test_split\n",
    "from sklearn.model_selection import GridSearchCV\n",
    "from sklearn.metrics import classification_report, confusion_matrix\n",
    "from sklearn.svm import SVC\n",
    "from collections import Counter\n",
    "from sklearn.ensemble import RandomForestClassifier\n",
    "from imblearn.over_sampling import RandomOverSampler\n",
    "from sklearn.linear_model import ElasticNetCV\n",
    "\n",
    "import pickle"
   ]
  },
  {
   "cell_type": "code",
   "execution_count": 14,
   "metadata": {},
   "outputs": [
    {
     "name": "stdout",
     "output_type": "stream",
     "text": [
      "total rows: 2884\n",
      "{'good': 2533, 'bad': 351}\n"
     ]
    }
   ],
   "source": [
    "d = pd.read_csv('venue_db.csv')\n",
    "pn = {1: 'good', 0: 'bad'}\n",
    "print(f'total rows: {len(d)}')\n",
    "\n",
    "c = Counter(d['is_ok'])\n",
    "print({pn[_]: c[_] for _ in c})"
   ]
  },
  {
   "cell_type": "code",
   "execution_count": 15,
   "metadata": {},
   "outputs": [],
   "source": [
    "pos_ = d[d['is_ok'] == 1]\n",
    "neg_ = d[d['is_ok'] == 0]\n",
    "\n",
    "while len(neg_) < len(pos_):\n",
    "    neg_ = pd.concat([neg_, neg_.sample(frac=0.2)])\n",
    "    \n",
    "d = pd.concat([pos_, neg_]).sample(frac=1.)"
   ]
  },
  {
   "cell_type": "code",
   "execution_count": 16,
   "metadata": {},
   "outputs": [
    {
     "name": "stdout",
     "output_type": "stream",
     "text": [
      "training set: 3594, testing set: 1541\n"
     ]
    }
   ],
   "source": [
    "X = d['venue']\n",
    "y = d['is_ok']\n",
    "\n",
    "X_train, X_test, y_train, y_test = train_test_split(X, y, test_size=0.3, random_state=21, stratify=y)\n",
    "print(f'training set: {len(X_train)}, testing set: {len(X_test)}')"
   ]
  },
  {
   "cell_type": "code",
   "execution_count": 17,
   "metadata": {},
   "outputs": [],
   "source": [
    "# this will produce a feature union with components called like 'countvectorizer'\n",
    "features = make_union(CountVectorizer(strip_accents='ascii', \n",
    "                                      lowercase=True, \n",
    "                                      stop_words='english', \n",
    "                                      ngram_range=(1, 3), \n",
    "                                      analyzer='word'))"
   ]
  },
  {
   "cell_type": "code",
   "execution_count": 24,
   "metadata": {},
   "outputs": [
    {
     "name": "stdout",
     "output_type": "stream",
     "text": [
      "running RANDOMFORESTCLASSIFIER...\n",
      "             precision    recall  f1-score   support\n",
      "\n",
      "          0       0.99      0.99      0.99       781\n",
      "          1       0.99      0.99      0.99       760\n",
      "\n",
      "avg / total       0.99      0.99      0.99      1541\n",
      "\n",
      "confusion matrix\n",
      "[[773   8]\n",
      " [  5 755]]\n",
      "incorrectly labelled as BAD\n",
      "2355                  the wharf tavern mooloolaba\n",
      "1636              river terrace federation square\n",
      "1748    shipwreck bay holiday park warnambool vic\n",
      "2187               hard rock cafe darling harbour\n",
      "1030                       zinc federation square\n",
      "Name: venue, dtype: object\n",
      "incorrectly labelled as GOOD\n",
      "646                      elder park king william road sa\n",
      "1454    hens pampered package - gift voucher - experienc\n",
      "550                            ridley reserved elizabeth\n",
      "646                      elder park king william road sa\n",
      "787                                 coolangatta beachfnt\n",
      "1816        wendouree sports and events centre, ballarat\n",
      "1454    hens pampered package - gift voucher - experienc\n",
      "651                     mackay harbour beach horse races\n",
      "Name: venue, dtype: object\n"
     ]
    }
   ],
   "source": [
    "cls = {'randomforestclassifier': RandomForestClassifier()}\n",
    "\n",
    "ps = {'randomforestclassifier': {'n_estimators': (100,200,300)},\n",
    "        'svc': {'class_weight': ('balanced', None),\n",
    "                'C': (1e-4, 1e-3, 1e-2, 1e-1, 1, 1e+1)}}\n",
    "\n",
    "\n",
    "for cl in cls:\n",
    "    \n",
    "    print(f'running {cl.upper()}...')\n",
    "    \n",
    "    pipeline = make_pipeline(features, cls[cl])\n",
    "    \n",
    "    pars = {f'{cl}__{p}': ps[cl][p] for p in ps[cl]}\n",
    "    \n",
    "    grid_search = GridSearchCV(pipeline, param_grid=pars)\n",
    "    \n",
    "    grid_search.fit(X_train, y_train.values.ravel())\n",
    "    \n",
    "    yh = grid_search.predict(X_test)\n",
    "    \n",
    "    print(classification_report(y_test, yh))\n",
    "    \n",
    "    print('confusion matrix')\n",
    "    \n",
    "    print(confusion_matrix(y_test, yh))\n",
    "    \n",
    "    print('incorrectly labelled as BAD')\n",
    "    \n",
    "    print(X_test[list(yh - y_test < 0)])\n",
    "    \n",
    "    print('incorrectly labelled as GOOD')\n",
    "    \n",
    "    print(X_test[list(yh - y_test > 0)])"
   ]
  },
  {
   "cell_type": "code",
   "execution_count": 55,
   "metadata": {},
   "outputs": [],
   "source": [
    "feature_name_list = grid_search.best_estimator_.named_steps['featureunion'].get_feature_names()\n",
    "feature_importances = grid_search.best_estimator_.named_steps['randomforestclassifier'].feature_importances_\n",
    "\n",
    "features_ranked = sorted([(name, round(imp,5)) for name, imp in zip(feature_name_list, feature_importances)], key=lambda x: x[1], reverse=True)"
   ]
  },
  {
   "cell_type": "code",
   "execution_count": 58,
   "metadata": {},
   "outputs": [
    {
     "data": {
      "text/plain": [
       "[('countvectorizer__events', 0.04428),\n",
       " ('countvectorizer__festival', 0.02639),\n",
       " ('countvectorizer__park', 0.02317),\n",
       " ('countvectorizer__reserve', 0.01778),\n",
       " ('countvectorizer__wharf', 0.01349),\n",
       " ('countvectorizer__club', 0.01233),\n",
       " ('countvectorizer__cruises', 0.0103),\n",
       " ('countvectorizer__hotel', 0.00776),\n",
       " ('countvectorizer__square', 0.00736),\n",
       " ('countvectorizer__theatre', 0.00721),\n",
       " ('countvectorizer__beach', 0.00715),\n",
       " ('countvectorizer__experience', 0.00702),\n",
       " ('countvectorizer__circus', 0.00692),\n",
       " ('countvectorizer__office', 0.00691),\n",
       " ('countvectorizer__ballooning', 0.0067),\n",
       " ('countvectorizer__cruise', 0.00662),\n",
       " ('countvectorizer__ticketek', 0.00656),\n",
       " ('countvectorizer__pier', 0.0061),\n",
       " ('countvectorizer__centre', 0.00606),\n",
       " ('countvectorizer__balloon', 0.00575)]"
      ]
     },
     "execution_count": 58,
     "metadata": {},
     "output_type": "execute_result"
    }
   ],
   "source": [
    "features_ranked[:20]"
   ]
  },
  {
   "cell_type": "code",
   "execution_count": 44,
   "metadata": {},
   "outputs": [],
   "source": [
    "pickle.dump(grid_search.best_estimator_, open('badvenue.pkl','wb'))"
   ]
  }
 ],
 "metadata": {
  "kernelspec": {
   "display_name": "Python 3",
   "language": "python",
   "name": "python3"
  },
  "language_info": {
   "codemirror_mode": {
    "name": "ipython",
    "version": 3
   },
   "file_extension": ".py",
   "mimetype": "text/x-python",
   "name": "python",
   "nbconvert_exporter": "python",
   "pygments_lexer": "ipython3",
   "version": "3.6.5"
  }
 },
 "nbformat": 4,
 "nbformat_minor": 2
}
